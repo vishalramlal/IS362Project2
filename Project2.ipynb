{
 "cells": [
  {
   "cell_type": "markdown",
   "id": "3a015421",
   "metadata": {},
   "source": [
    "# IS362 Project 2\n",
    "Choose any three of the “wide” datasets identified in the Week 5 Discussion items.  (You may \n",
    "use your own dataset; please don’t use my Sample Post dataset, since that was used in your \n",
    "Project 1 assignment!)  For each of the three chosen datasets:  \n",
    "\n",
    "-Create a .CSV file (or optionally, a MySQL database!) that includes all of the information \n",
    "included in the dataset.  You’re encouraged to use a “wide” structure similar to how the \n",
    "information appears in the discussion item, so that you can practice tidying and \n",
    "transformations as described below.  \n",
    "\n",
    "-Read the information from your .CSV file into Python, and use pandas as needed to tidy \n",
    "and transform your data.  \n",
    "\n",
    "-Perform the analysis requested in the discussion item."
   ]
  },
  {
   "cell_type": "markdown",
   "id": "55dbe8d9",
   "metadata": {},
   "source": [
    "## 1. NYC OpenData 311 service requests\n",
    "This dataset retrieved from https://data.cityofnewyork.us/Social-Services/311-Service-Requests-for-2008/uzcy-9puk \n",
    "contains historical data for 311 service requests from 2008.\n",
    "\n",
    "**Find the Borough with the most number of complaints.**"
   ]
  },
  {
   "cell_type": "markdown",
   "id": "554a2034",
   "metadata": {},
   "source": [
    "Before beginning analysis of the data, first Pandas must be loaded:"
   ]
  },
  {
   "cell_type": "code",
   "execution_count": null,
   "id": "167f0435",
   "metadata": {},
   "outputs": [],
   "source": [
    "import pandas as pd\n",
    "pd.set_option('display.max_rows', 10)"
   ]
  },
  {
   "cell_type": "markdown",
   "id": "4fd4bf48",
   "metadata": {},
   "source": [
    "Now the CSV can be loaded, but only reading the columns which are most relevant for analysis:"
   ]
  },
  {
   "cell_type": "code",
   "execution_count": null,
   "id": "6c365034",
   "metadata": {},
   "outputs": [],
   "source": [
    "colms = ['Complaint Type', 'Borough']\n",
    "serv_req = pd.read_csv('./311_Service_Requests_2008.csv', usecols = colms)"
   ]
  },
  {
   "cell_type": "markdown",
   "id": "45a11ee4",
   "metadata": {},
   "source": [
    "The dataset contains some unwanted values \"Unspecified\", so this code will identify and gather them for removal:"
   ]
  },
  {
   "cell_type": "code",
   "execution_count": null,
   "id": "0f639fe8",
   "metadata": {},
   "outputs": [],
   "source": [
    "bad_values = serv_req[ serv_req['Borough'] == 'Unspecified' ].index\n",
    "\n",
    "serv_req.drop(bad_values, inplace = True)"
   ]
  },
  {
   "cell_type": "markdown",
   "id": "3a439111",
   "metadata": {},
   "source": [
    "With the unvanted values out of the way, a dataframe can be created. After sorting the values, the count of each Boroughs complaints can be displayed:  \n",
    "According to the data, Manhattan is the Borough with the most amount of complaints."
   ]
  },
  {
   "cell_type": "code",
   "execution_count": null,
   "id": "cf114d49",
   "metadata": {},
   "outputs": [],
   "source": [
    "boro_complaints = serv_req.groupby('Borough').count()\n",
    "                                        \n",
    "boro_complaints.sort_values(['Complaint Type'], ascending = False)"
   ]
  },
  {
   "cell_type": "markdown",
   "id": "9ddb78ad",
   "metadata": {},
   "source": [
    "## 2. Unemployment Data\n",
    "The dataset located at https://raw.githubusercontent.com/amberferger/DATA607_Project2/master/Unemployment%20Data.csv contains the unemployment rates for 88 countries during the years 1990 to 2019, from the World Bank Global Economic Monitor.  \n",
    "\n",
    "**Compare unemployment rates from 4 different countries.**"
   ]
  },
  {
   "cell_type": "markdown",
   "id": "ea43a290",
   "metadata": {},
   "source": [
    "First the CSV file will be loaded with pandas, but only reading the columns which are most relevant for analysis:"
   ]
  },
  {
   "cell_type": "code",
   "execution_count": null,
   "id": "8940dd0b",
   "metadata": {},
   "outputs": [],
   "source": [
    "unemp_colms = ['Austria', 'Switzerland', 'Finland', 'Japan']\n",
    "unemp_data = pd.read_csv('https://raw.githubusercontent.com/amberferger/DATA607_Project2/master/Unemployment%20Data.csv', usecols = unemp_colms)\n"
   ]
  },
  {
   "cell_type": "markdown",
   "id": "145b530a",
   "metadata": {},
   "source": [
    "Since the data contains many \"NaN\" values that are not useful to analysis, it will be dropped:"
   ]
  },
  {
   "cell_type": "code",
   "execution_count": null,
   "id": "9e0ee6c2",
   "metadata": {},
   "outputs": [],
   "source": [
    "unemp_rates = unemp_data.dropna()"
   ]
  },
  {
   "cell_type": "markdown",
   "id": "b1d88754",
   "metadata": {},
   "source": [
    "With the data cleaned, the mean unempoyment rate for the selected countries can now be calculated and placed into a dataframe:"
   ]
  },
  {
   "cell_type": "code",
   "execution_count": null,
   "id": "1e4f145f",
   "metadata": {},
   "outputs": [],
   "source": [
    "unemp_rates_mean = unemp_rates.Austria.mean(),unemp_rates.Switzerland.mean(), unemp_rates.Finland.mean(),unemp_rates.Japan.mean()\n",
    "dframe = pd.DataFrame([unemp_rates_mean], columns = ['Austria', 'Switzerland', 'Finland', 'Japan'])\n",
    "dframe"
   ]
  },
  {
   "cell_type": "markdown",
   "id": "dd08ecef",
   "metadata": {},
   "source": [
    "## 3. Vehicle Collisions 2012\n",
    "The dataset located at https://catalog.data.gov/dataset/2012-vehicle-collisions-investigated-by-state-police contains vehicle collisions investigated by the Maryland State Police in 2012.  \n",
    "**Find the county with the highest reported injuries.**"
   ]
  },
  {
   "cell_type": "markdown",
   "id": "8668a961",
   "metadata": {},
   "source": [
    "As with previous datasets, the CSV file will be loaded with pandas, but only reading the columns which are most relevant for analysis:"
   ]
  },
  {
   "cell_type": "code",
   "execution_count": null,
   "id": "6bbea1c5",
   "metadata": {},
   "outputs": [],
   "source": [
    "vc_colms = ['COUNTY_NAME', 'INJURY']\n",
    "vc_data = pd.read_csv('./2012_Vehicle_Collisions_Investigated.csv', usecols = vc_colms)"
   ]
  },
  {
   "cell_type": "markdown",
   "id": "2cdfb8a1",
   "metadata": {},
   "source": [
    "The dataset does contain some missing values, so those will be dropped by pandas:"
   ]
  },
  {
   "cell_type": "code",
   "execution_count": null,
   "id": "d187e3d2",
   "metadata": {},
   "outputs": [],
   "source": [
    "vc_data_clean = vc_data.dropna()\n",
    "vc_bad_values = vc_data[vc_data['COUNTY_NAME'] == ''].index\n",
    "vc_data.drop(vc_bad_values, inplace = True)"
   ]
  },
  {
   "cell_type": "markdown",
   "id": "758b571f",
   "metadata": {},
   "source": [
    "Now that the data has been cleaned up, an analysis can be done to find the count of injuries by county reported and sort them:"
   ]
  },
  {
   "cell_type": "code",
   "execution_count": null,
   "id": "06bd3ae6",
   "metadata": {},
   "outputs": [],
   "source": [
    "vc_inj = vc_data_clean.groupby('COUNTY_NAME').count()\n",
    "vc_inj.sort_values(['INJURY'], ascending = False)"
   ]
  },
  {
   "cell_type": "markdown",
   "id": "394709fc",
   "metadata": {},
   "source": [
    "According to the data, Prince Georges County had the highest number of reported injuries."
   ]
  }
 ],
 "metadata": {
  "kernelspec": {
   "display_name": "Python 3",
   "language": "python",
   "name": "python3"
  },
  "language_info": {
   "codemirror_mode": {
    "name": "ipython",
    "version": 3
   },
   "file_extension": ".py",
   "mimetype": "text/x-python",
   "name": "python",
   "nbconvert_exporter": "python",
   "pygments_lexer": "ipython3",
   "version": "3.8.10"
  }
 },
 "nbformat": 4,
 "nbformat_minor": 5
}
